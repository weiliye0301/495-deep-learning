{
 "cells": [
  {
   "cell_type": "markdown",
   "metadata": {
    "deletable": true,
    "editable": true
   },
   "source": [
    "# Deep learning from scratch: homework 2\n",
    "\n",
    "# Xiao Zidong.      ZXR5777"
   ]
  },
  {
   "cell_type": "markdown",
   "metadata": {
    "deletable": true,
    "editable": true
   },
   "source": [
    "### General instructions"
   ]
  },
  {
   "cell_type": "markdown",
   "metadata": {
    "deletable": true,
    "editable": true
   },
   "source": [
    "Complete the exercises listed below in this Jupyter notebook - leaving all of your code in Python cells in the notebook itself.  Feel free to add any necessary cells."
   ]
  },
  {
   "cell_type": "markdown",
   "metadata": {
    "deletable": true,
    "editable": true
   },
   "source": [
    "#### <span style=\"color:#a50e3e;\">Exercise 1. </span>   Perform two-class classification on a toy dataset"
   ]
  },
  {
   "cell_type": "markdown",
   "metadata": {
    "deletable": true,
    "editable": true
   },
   "source": [
    "Code up the two-class logistic regression / softmax cost function, using gradient descent to minimize.  You should use the two class toy dataset we [we saw in class](https://jermwatt.github.io/mlrefined/presentations/courses/deep_learning/Lecture_3_logistic_regression.slides.html#/14/1) to test out your code.  This dataset is in the file called *3d_classification_data_v2.csv*.\n",
    "\n",
    "Create a plot with two panels that shows the number of misclassifications at each gradient descent step (in the left panel), and one that compares the cost function at each gradient descent step (in the right panel).  You won't get perfect separation - but you should be able to separate most of the points."
   ]
  },
  {
   "cell_type": "code",
   "execution_count": 1,
   "metadata": {
    "collapsed": false,
    "deletable": true,
    "editable": true
   },
   "outputs": [
    {
     "ename": "ImportError",
     "evalue": "No module named autograd.numpy",
     "output_type": "error",
     "traceback": [
      "\u001b[0;31m\u001b[0m",
      "\u001b[0;31mImportError\u001b[0mTraceback (most recent call last)",
      "\u001b[0;32m<ipython-input-1-3565dfccc391>\u001b[0m in \u001b[0;36m<module>\u001b[0;34m()\u001b[0m\n\u001b[0;32m----> 1\u001b[0;31m \u001b[0;32mimport\u001b[0m \u001b[0mautograd\u001b[0m\u001b[0;34m.\u001b[0m\u001b[0mnumpy\u001b[0m \u001b[0;32mas\u001b[0m \u001b[0mnp\u001b[0m\u001b[0;34m\u001b[0m\u001b[0m\n\u001b[0m\u001b[1;32m      2\u001b[0m \u001b[0;32mimport\u001b[0m \u001b[0mmatplotlib\u001b[0m\u001b[0;34m.\u001b[0m\u001b[0mpyplot\u001b[0m \u001b[0;32mas\u001b[0m \u001b[0mplt\u001b[0m\u001b[0;34m\u001b[0m\u001b[0m\n\u001b[1;32m      3\u001b[0m \u001b[0;32mfrom\u001b[0m \u001b[0mautograd\u001b[0m \u001b[0;32mimport\u001b[0m \u001b[0mgrad\u001b[0m\u001b[0;34m\u001b[0m\u001b[0m\n\u001b[1;32m      4\u001b[0m \u001b[0;32mimport\u001b[0m \u001b[0mmath\u001b[0m\u001b[0;34m\u001b[0m\u001b[0m\n",
      "\u001b[0;31mImportError\u001b[0m: No module named autograd.numpy"
     ]
    }
   ],
   "source": [
    "import autograd.numpy as np\n",
    "import matplotlib.pyplot as plt\n",
    "from autograd import grad\n",
    "import math"
   ]
  },
  {
   "cell_type": "code",
   "execution_count": 36,
   "metadata": {
    "collapsed": true,
    "deletable": true,
    "editable": true
   },
   "outputs": [],
   "source": [
    "csvname = '/Users/tomx/Desktop/deep_learning_hw_2/3d_classification_data_v2.csv'\n",
    "data = np.loadtxt(csvname, delimiter=',')\n",
    "\n",
    "x = data[:,:-1]\n",
    "y = data[:, -1]"
   ]
  },
  {
   "cell_type": "code",
   "execution_count": 37,
   "metadata": {
    "collapsed": true,
    "deletable": true,
    "editable": true
   },
   "outputs": [],
   "source": [
    "def gradient_descent(g, alpha, max_its, w):\n",
    "    # compute the gradient of our input function - note this is a function too!\n",
    "    gradient = grad(g)\n",
    "\n",
    "    # run the gradient descent loop\n",
    "    best_w = w  # weight we return, should be the one providing lowest evaluation\n",
    "    best_eval = g(w)  # lowest evaluation yet\n",
    "    w_history=[w]\n",
    "\n",
    "    j=0\n",
    "    for k in range(max_its):\n",
    "        # evaluate the gradient\n",
    "        grad_eval = gradient(w)\n",
    "\n",
    "        # take gradient descent step\n",
    "        w = w - alpha * grad_eval\n",
    "\n",
    "        # return only the weight providing the lowest evaluation\n",
    "        test_eval = g(w)\n",
    "\n",
    "        w_history.append(w)\n",
    "\n",
    "    return w_history\n"
   ]
  },
  {
   "cell_type": "code",
   "execution_count": 38,
   "metadata": {
    "collapsed": true,
    "deletable": true,
    "editable": true
   },
   "outputs": [],
   "source": [
    "def cost_history(weight_history, g):\n",
    "    cost_function=[0]\n",
    "    cost_function[0]=g(weight_history[0])\n",
    "    for k in range (1,len(weight_history)):\n",
    "        cost_function.append(g(weight_history[k]))\n",
    "    return cost_function"
   ]
  },
  {
   "cell_type": "code",
   "execution_count": 39,
   "metadata": {
    "collapsed": true,
    "deletable": true,
    "editable": true
   },
   "outputs": [],
   "source": [
    "def softmax(w):\n",
    "    cost = 0\n",
    "    for p in range(0,len(y)):\n",
    "\n",
    "        y_p = y[p]\n",
    "        cost += np.log(1 + np.exp(-y_p*(w[0] + w[1]*x[p][0]+w[2]*x[p][1])))\n",
    "    return cost\n"
   ]
  },
  {
   "cell_type": "code",
   "execution_count": null,
   "metadata": {
    "collapsed": true,
    "deletable": true,
    "editable": true
   },
   "outputs": [],
   "source": [
    "def count_mis(a,b):\n",
    "    result=0\n",
    "    for i in range (len(a)):\n",
    "        if a[i]!=b[i]:\n",
    "            result=result+1\n",
    "\n",
    "    return result\n"
   ]
  },
  {
   "cell_type": "code",
   "execution_count": null,
   "metadata": {
    "collapsed": true,
    "deletable": true,
    "editable": true
   },
   "outputs": [],
   "source": [
    "def misclassfication(w):\n",
    "    result=[]\n",
    "    for i in w:\n",
    "        t = []\n",
    "\n",
    "        for p in range(len(y)):\n",
    "            r=i[0]+i[1]*x[p][0]+i[2]*x[p][1]\n",
    "            if r>0:\n",
    "                t.append(1)\n",
    "            else:\n",
    "                t.append(-1)\n",
    "\n",
    "\n",
    "        result.append(count_mis(t,y))\n",
    "    return result"
   ]
  },
  {
   "cell_type": "code",
   "execution_count": null,
   "metadata": {
    "collapsed": true,
    "deletable": true,
    "editable": true
   },
   "outputs": [],
   "source": [
    "w = np.asarray([1.5,1.5,1.5])\n",
    "weight_history = gradient_descent(g = softmax,alpha = 0.001,max_its = 1000,w = w)\n",
    "g=softmax"
   ]
  },
  {
   "cell_type": "code",
   "execution_count": 167,
   "metadata": {
    "collapsed": false,
    "deletable": true,
    "editable": true
   },
   "outputs": [
    {
     "data": {
      "image/png": "[encoded data removed]",
      "text/plain": [
       "<matplotlib.figure.Figure at 0x1167e3748>"
      ]
     },
     "metadata": {},
     "output_type": "display_data"
    }
   ],
   "source": [
    "b=cost_history(weight_history,softmax)\n",
    "a=misclassfication(weight_history)\n",
    "\n",
    "fig, (ax1,ax2) = plt.subplots(1, 2, figsize=(12, 6))\n",
    "w_vals = np.linspace(0, 500, len(weight_history))\n",
    "\n",
    "ax1.plot(w_vals, a)\n",
    "ax2.plot(w_vals,b)\n",
    "ax1.set_title(\"misclassification\")\n",
    "ax2.set_title(\"cost history\")\n",
    "\n",
    "plt.show()"
   ]
  },
  {
   "cell_type": "markdown",
   "metadata": {
    "deletable": true,
    "editable": true
   },
   "source": [
    "#### <span style=\"color:#a50e3e;\">Exercise 2. </span>   Perform two-class classification on a breast cancer dataset"
   ]
  },
  {
   "cell_type": "markdown",
   "metadata": {
    "deletable": true,
    "editable": true
   },
   "source": [
    "Use the softmax cost function to classify healthy from cancerous tissue using the dataset located in breast_cancer_dataset.csv (included in this homework folder).  You can examine the description of this dataset [here](https://archive.ics.uci.edu/ml/datasets/Breast+Cancer+Wisconsin+(Diagnostic)). \n",
    "\n",
    "There are $N = 8$ input dimensions to the input of this dataset (these are the first $N = 8$ columns of the breast_cancer_dataset.csv, the last column are the associated labels).  Fit using gradient descent using a maximum of 5,000 iterations.  You should be able to reach a point on the surface where you misclassify less than 30 examples."
   ]
  },
  {
   "cell_type": "markdown",
   "metadata": {
    "deletable": true,
    "editable": true
   },
   "source": [
    "**Note:** Python is a great prototyping language but [it is slow](http://jakevdp.github.io/blog/2014/05/09/why-python-is-slow/), particular when evaluating explicit for loops.  If you are having speed issues try re-writing the softmax cost function using as few explicit for-loops as possible (you can indeed write the entire summation in a single line of Python code, for-loop free)."
   ]
  },
  {
   "cell_type": "code",
   "execution_count": null,
   "metadata": {
    "collapsed": true,
    "deletable": true,
    "editable": true
   },
   "outputs": [],
   "source": [
    "csvname = '/Users/tomx/Desktop/deep_learning_hw_2/breast_cancer_data.csv'\n",
    "data = np.loadtxt(csvname, delimiter=',')\n",
    "x = data[:,:-1]\n",
    "y = data[:, -1]\n"
   ]
  },
  {
   "cell_type": "code",
   "execution_count": null,
   "metadata": {
    "collapsed": true,
    "deletable": true,
    "editable": true
   },
   "outputs": [],
   "source": [
    "def gradient_descent(g, alpha, max_its, w):\n",
    "    # compute the gradient of our input function - note this is a function too!\n",
    "    gradient = grad(g)\n",
    "\n",
    "    # run the gradient descent loop\n",
    "    best_w = w  # weight we return, should be the one providing lowest evaluation\n",
    "    best_eval = g(w)  # lowest evaluation yet\n",
    "    w_history=[w]\n",
    "\n",
    "    j=0\n",
    "    for k in range(max_its):\n",
    "        # evaluate the gradient\n",
    "        grad_eval = gradient(w)\n",
    "\n",
    "        # take gradient descent step\n",
    "        w = w - alpha * grad_eval\n",
    "\n",
    "        # return only the weight providing the lowest evaluation\n",
    "        test_eval = g(w)\n",
    "\n",
    "        w_history.append(w)\n",
    "\n",
    "    return w_history\n"
   ]
  },
  {
   "cell_type": "code",
   "execution_count": null,
   "metadata": {
    "collapsed": true,
    "deletable": true,
    "editable": true
   },
   "outputs": [],
   "source": [
    "def cost_history(weight_history, g):\n",
    "    cost_function=[0]\n",
    "    cost_function[0]=g(weight_history[0])\n",
    "    for k in range (1,len(weight_history)):\n",
    "        cost_function.append(g(weight_history[k]))\n",
    "    return cost_function"
   ]
  },
  {
   "cell_type": "code",
   "execution_count": null,
   "metadata": {
    "collapsed": true,
    "deletable": true,
    "editable": true
   },
   "outputs": [],
   "source": [
    "def softmax(w):\n",
    "    cost = 0\n",
    "    for p in range(0,len(y)):\n",
    "\n",
    "        y_p = y[p]\n",
    "        cost += np.log(1 + np.exp(-y_p*(w[0] + w[1]*x[p][0]+w[2]*x[p][1]+w[3]*x[p][2]+w[4]*x[p][3]+w[5]*x[p][4]+w[6]*x[p][5]+w[7]*x[p][6]+w[8]*x[p][7])))\n",
    "    return cost"
   ]
  },
  {
   "cell_type": "code",
   "execution_count": null,
   "metadata": {
    "collapsed": true,
    "deletable": true,
    "editable": true
   },
   "outputs": [],
   "source": [
    "def misclassfication(w):\n",
    "    result=[]\n",
    "    for i in w:\n",
    "        t = []\n",
    "\n",
    "        for p in range(len(y)):\n",
    "            r=i[0]+i[1]*x[p][0]+i[2]*x[p][1]+i[3]*x[p][2]+i[4]*x[p][3]+i[5]*x[p][4]+i[6]*x[p][5]+i[7]*x[p][6]+i[8]*x[p][7]\n",
    "            if r>0:\n",
    "                t.append(1)\n",
    "            else:\n",
    "                t.append(-1)\n",
    "\n",
    "\n",
    "        result.append(count_mis(t,y))\n",
    "    return result"
   ]
  },
  {
   "cell_type": "code",
   "execution_count": 150,
   "metadata": {
    "collapsed": false,
    "deletable": true,
    "editable": true
   },
   "outputs": [
    {
     "data": {
      "image/png": "[encoded data removed]",
      "text/plain": [
       "<matplotlib.figure.Figure at 0x115973860>"
      ]
     },
     "metadata": {},
     "output_type": "display_data"
    }
   ],
   "source": [
    "w = np.asarray([1.5,1.5,1.5,1.5,1.5,1.5,1.5,1.5,1.5])\n",
    "weight_history = gradient_descent(g = softmax,alpha = 0.001,max_its = 1000,w = w)\n",
    "g=softmax\n",
    "\n",
    "b=cost_history(weight_history,softmax)\n",
    "a=misclassfication(weight_history)\n",
    "\n",
    "fig, (ax1,ax2) = plt.subplots(1, 2, figsize=(12, 6))\n",
    "w_vals = np.linspace(0, 500, len(weight_history))\n",
    "\n",
    "ax1.plot(w_vals, a)\n",
    "ax2.plot(w_vals,b)\n",
    "ax1.set_title(\"misclassification\")\n",
    "ax2.set_title(\"cost history\")\n",
    "\n",
    "plt.show()"
   ]
  },
  {
   "cell_type": "markdown",
   "metadata": {
    "collapsed": true,
    "deletable": true,
    "editable": true
   },
   "source": [
    "#### <span style=\"color:#a50e3e;\">Exercise 3. </span>   Code up One-versus-All multiclass classification"
   ]
  },
  {
   "cell_type": "markdown",
   "metadata": {
    "deletable": true,
    "editable": true
   },
   "source": [
    "Using the toy $C = 3$ class dataset we saw [in class](https://jermwatt.github.io/mlrefined/presentations/courses/deep_learning/Lecture_5_one_versus_all.slides.html#/) - located in *3class_data.csv* - code up One-Versus-All classification, using this toy dataset to test out your code.  You should be able to learn a model that perfectly separates this data - as shown in class.  You may use your softmax cost / gradient descent code here for each of the two-class subproblems! "
   ]
  },
  {
   "cell_type": "code",
   "execution_count": 4,
   "metadata": {
    "collapsed": true,
    "deletable": true,
    "editable": true
   },
   "outputs": [],
   "source": [
    "csvname = '/Users/tomx/Desktop/deep_learning_hw_2/3class_data.csv'\n",
    "data = np.loadtxt(csvname, delimiter=',')"
   ]
  },
  {
   "cell_type": "code",
   "execution_count": 5,
   "metadata": {
    "collapsed": true,
    "deletable": true,
    "editable": true
   },
   "outputs": [],
   "source": [
    "x = data[:,:-1]\n",
    "y = data[:, -1]\n",
    "y1=[]\n",
    "y2=[]\n",
    "y3=[]\n",
    "for i in range(len(y)):\n",
    "    if y[i]==1:\n",
    "        y1.append(1)\n",
    "        y2.append(-1)\n",
    "        y3.append(-1)\n",
    "    if y[i]==2:\n",
    "        y1.append(-1)\n",
    "        y2.append(1)\n",
    "        y3.append(-1)\n",
    "    if y[i]==3:\n",
    "        y1.append(-1)\n",
    "        y2.append(-1)\n",
    "        y3.append(1)\n"
   ]
  },
  {
   "cell_type": "code",
   "execution_count": 6,
   "metadata": {
    "collapsed": true,
    "deletable": true,
    "editable": true
   },
   "outputs": [],
   "source": [
    "def gradient_descent(g, alpha, max_its, w,y):\n",
    "    # compute the gradient of our input function - note this is a function too!\n",
    "    gradient = grad(g)\n",
    "\n",
    "    # run the gradient descent loop\n",
    "    best_w = w  # weight we return, should be the one providing lowest evaluation\n",
    "    best_eval = g(w,y)  # lowest evaluation yet\n",
    "    w_history=[w]\n",
    "\n",
    "    j=0\n",
    "    for k in range(max_its):\n",
    "        # evaluate the gradient\n",
    "        grad_eval = gradient(w,y)\n",
    "\n",
    "        # take gradient descent step\n",
    "        w = w - alpha * grad_eval\n",
    "\n",
    "        # return only the weight providing the lowest evaluation\n",
    "        test_eval = g(w,y)\n",
    "\n",
    "        w_history.append(w)\n",
    "\n",
    "\n",
    "\n",
    "\n",
    "    return w_history"
   ]
  },
  {
   "cell_type": "code",
   "execution_count": 7,
   "metadata": {
    "collapsed": true,
    "deletable": true,
    "editable": true
   },
   "outputs": [],
   "source": [
    "def softmax(w,y):\n",
    "    cost = 0\n",
    "    for p in range(0,len(y)):\n",
    "\n",
    "        y_p = y[p]\n",
    "        cost += np.log(1 + np.exp(-y_p*(w[0] + w[1]*x[p][0]+w[2]*x[p][1])))\n",
    "    return cost\n",
    "\n"
   ]
  },
  {
   "cell_type": "code",
   "execution_count": 8,
   "metadata": {
    "collapsed": true,
    "deletable": true,
    "editable": true
   },
   "outputs": [],
   "source": [
    "def OVA(w1,w2,w3,n):\n",
    "    result=[]\n",
    "\n",
    "    t1 = []\n",
    "\n",
    "    for p in range(len(y)):\n",
    "            r=w1[n][0]+w1[n][1]*x[p][0]+w1[n][2]*x[p][1]\n",
    "            if r>0:\n",
    "                t1.append([x[p][0],x[p][1]])\n",
    "\n",
    "    m1=[]\n",
    "    n1=[]\n",
    "    for i in t1:\n",
    "        m1.append(i[0])\n",
    "        n1.append([i[1]])\n",
    "\n",
    "    t2 = []\n",
    "\n",
    "    for p in range(len(y)):\n",
    "            r=w2[n][0]+w2[n][1]*x[p][0]+w2[n][2]*x[p][1]\n",
    "            if r>0:\n",
    "                t2.append([x[p][0],x[p][1]])\n",
    "\n",
    "    m2=[]\n",
    "    n2=[]\n",
    "    for i in t2:\n",
    "        m2.append(i[0])\n",
    "        n2.append([i[1]])\n",
    "\n",
    "    t3 = []\n",
    "\n",
    "    for p in range(len(y)):\n",
    "        r = w3[n][0] + w3[n][1] * x[p][0] + w3[n][2] * x[p][1]\n",
    "        if r > 0:\n",
    "            t3.append([x[p][0], x[p][1]])\n",
    "\n",
    "    m3 = []\n",
    "    n3 = []\n",
    "    for i in t3:\n",
    "        m3.append(i[0])\n",
    "        n3.append([i[1]])\n",
    "\n",
    "    x_vals1 = np.linspace(0, 0.8, 200)\n",
    "    y_vals1= -(w1[n][0]+w1[n][1]*x_vals1)/w1[n][2]\n",
    "    x_vals2 = np.linspace(0.4, 0.8, 200)\n",
    "    y_vals2 = -(w2[n][0] + w2[n][1] * x_vals2) / w2[n][2]\n",
    "    x_vals3 = np.linspace(0, 1, 200)\n",
    "    y_vals3 = -(w3[n][0] + w3[n][1] * x_vals3) / w3[n][2]\n",
    "    colorlist=[]\n",
    "    for p in range(len(y)):\n",
    "        if y[p]==1:\n",
    "            colorlist.append('r')\n",
    "        if y[p]==2:\n",
    "            colorlist.append('b')\n",
    "        if y[p]==3:\n",
    "            colorlist.append('g')\n",
    "\n",
    "\n",
    "\n",
    "\n",
    "    fig,(ax1,ax2)=plt.subplots(1,2,figsize=(12,6))\n",
    "    ax2.scatter(m1,n1,color='r', edgecolor='w')\n",
    "    ax2.scatter(m2, n2, color='b', edgecolor='w')\n",
    "    ax2.scatter(m3, n3, color='g', edgecolor='w')\n",
    "    ax2.plot(x_vals1,y_vals1,color='r')\n",
    "    ax2.plot(x_vals2,y_vals2,color='b')\n",
    "    ax2.plot(x_vals3, y_vals3, color='g')\n",
    "\n",
    "\n",
    "\n",
    "    ax1.scatter(data[:, 0], data[:, 1], color=colorlist, edgecolor='w')\n",
    "    ax1.set_title(\"original data\")\n",
    "    ax2.set_title(\"classified data\")\n",
    "\n",
    "\n",
    "    plt.show()"
   ]
  },
  {
   "cell_type": "code",
   "execution_count": 9,
   "metadata": {
    "collapsed": false,
    "deletable": true,
    "editable": true
   },
   "outputs": [
    {
     "data": {
      "image/png": "[encoded data removed]",
      "text/plain": [
       "<matplotlib.figure.Figure at 0x11378fba8>"
      ]
     },
     "metadata": {},
     "output_type": "display_data"
    }
   ],
   "source": [
    "w = np.asarray([1.5,1.5,1.5])\n",
    "\n",
    "weight_history1 = gradient_descent(g = softmax,alpha = 0.01,max_its = 500,w = w,y=y1)  #for the red data\n",
    "weight_history2 = gradient_descent(g = softmax,alpha = 0.01,max_its = 500,w = w,y=y2)  #for the blue data\n",
    "weight_history3 = gradient_descent(g = softmax,alpha = 0.01,max_its = 500,w = w,y=y3)  #for the green data\n",
    "\n",
    "OVA(weight_history1,weight_history2,weight_history3,499) #Since the max_its=500, 499 is the best weight and I use it to\n",
    "                                                        #classify the data"
   ]
  },
  {
   "cell_type": "markdown",
   "metadata": {
    "deletable": true,
    "editable": true
   },
   "source": [
    "#### <span style=\"color:#a50e3e;\">Exercise 4. </span>   A nonlinear two-class dataset"
   ]
  },
  {
   "cell_type": "markdown",
   "metadata": {
    "deletable": true,
    "editable": true
   },
   "source": [
    "Propose a nonlinear feature transformation and integrate it into your two-class classification scheme in order to adequately classify the dataset shown below - located in the file *bricks.csv'.  With the right transformation you should be able to classify this quite well."
   ]
  },
  {
   "cell_type": "markdown",
   "metadata": {
    "deletable": true,
    "editable": true
   },
   "source": [
    "<p>\n",
    "  <img src= 'brick_pick.png' width=\"40%\" height=\"40%\" alt=\"\"/>\n",
    "</p>"
   ]
  },
  {
   "cell_type": "code",
   "execution_count": 81,
   "metadata": {
    "collapsed": true,
    "deletable": true,
    "editable": true
   },
   "outputs": [],
   "source": [
    "\n",
    "csvname = '/Users/tomx/Desktop/deep_learning_hw_2/bricks.csv'\n",
    "data = np.loadtxt(csvname, delimiter=',')\n",
    "x = data[:,:-1]\n",
    "y = data[:, -1]"
   ]
  },
  {
   "cell_type": "code",
   "execution_count": 82,
   "metadata": {
    "collapsed": true,
    "deletable": true,
    "editable": true
   },
   "outputs": [],
   "source": [
    "def softmax(w):\n",
    "    cost = 0\n",
    "    for p in range(0,len(y)):\n",
    "\n",
    "        y_p = y[p]\n",
    "        cost += np.log(1 + np.exp(-y_p*(w[0] + w[1]*x[p][0]+w[2]*np.sin(2*w[3]*np.pi*x[p][1]+w[4]))))\n",
    "\n",
    "    return cost\n"
   ]
  },
  {
   "cell_type": "code",
   "execution_count": 83,
   "metadata": {
    "collapsed": true,
    "deletable": true,
    "editable": true
   },
   "outputs": [],
   "source": [
    "def misclassfication(w):\n",
    "    result=[]\n",
    "    for i in w:\n",
    "        t = []\n",
    "\n",
    "        for p in range(len(y)):\n",
    "            r=i[0] + i[1]*x[p][0]+i[2]*np.sin(2*i[3]*np.pi*x[p][1]+i[4])\n",
    "            if r>0:\n",
    "                t.append(1)\n",
    "            else:\n",
    "                t.append(-1)\n",
    "\n",
    "\n",
    "        result.append(count_mis(t,y))\n",
    "    return result\n",
    "\n"
   ]
  },
  {
   "cell_type": "code",
   "execution_count": 84,
   "metadata": {
    "collapsed": true,
    "deletable": true,
    "editable": true
   },
   "outputs": [],
   "source": [
    "def gradient_descent(g, alpha, max_its, w):\n",
    "    # compute the gradient of our input function - note this is a function too!\n",
    "    gradient = grad(g)\n",
    "\n",
    "    # run the gradient descent loop\n",
    "    best_w = w  # weight we return, should be the one providing lowest evaluation\n",
    "    best_eval = g(w)  # lowest evaluation yet\n",
    "    w_history=[w]\n",
    "\n",
    "    j=0\n",
    "    for k in range(max_its):\n",
    "        # evaluate the gradient\n",
    "        grad_eval = gradient(w)\n",
    "\n",
    "        # take gradient descent step\n",
    "        w = w - alpha * grad_eval\n",
    "\n",
    "        # return only the weight providing the lowest evaluation\n",
    "        test_eval = g(w)\n",
    "\n",
    "        w_history.append(w)\n",
    "\n",
    "    return w_history"
   ]
  },
  {
   "cell_type": "code",
   "execution_count": 85,
   "metadata": {
    "collapsed": true,
    "deletable": true,
    "editable": true
   },
   "outputs": [],
   "source": [
    "def count_mis(a,b):\n",
    "    result=0\n",
    "    for i in range (len(a)):\n",
    "        if a[i]!=b[i]:\n",
    "            result=result+1\n",
    "\n",
    "    return result"
   ]
  },
  {
   "cell_type": "code",
   "execution_count": 86,
   "metadata": {
    "collapsed": true,
    "deletable": true,
    "editable": true
   },
   "outputs": [],
   "source": [
    "def cost_history(weight_history, g):\n",
    "    cost_function=[0]\n",
    "    cost_function[0]=g(weight_history[0])\n",
    "    for k in range (1,len(weight_history)):\n",
    "        cost_function.append(g(weight_history[k]))\n",
    "    return cost_function"
   ]
  },
  {
   "cell_type": "code",
   "execution_count": 88,
   "metadata": {
    "collapsed": false,
    "deletable": true,
    "editable": true
   },
   "outputs": [
    {
     "data": {
      "image/png": "[encoded data removed]",
      "text/plain": [
       "<matplotlib.figure.Figure at 0x117ff78d0>"
      ]
     },
     "metadata": {},
     "output_type": "display_data"
    }
   ],
   "source": [
    "# run gradient descent\n",
    "w = np.asarray([0.5,0.5,0.5,0.5,0.5])\n",
    "\n",
    "weight_history = gradient_descent(g = softmax,alpha = 0.001,max_its = 1000,w = w)\n",
    "\n",
    "\n",
    "b=cost_history(weight_history,softmax)\n",
    "a=misclassfication(weight_history)\n",
    "\n",
    "fig, (ax1,ax2) = plt.subplots(1, 2, figsize=(12, 6))\n",
    "w_vals = np.linspace(0, 500, len(weight_history))\n",
    "\n",
    "ax1.plot(w_vals, a)\n",
    "ax2.plot(w_vals,b)\n",
    "ax1.set_title(\"misclassification\")\n",
    "ax2.set_title(\"cost history\")\n",
    "\n",
    "\n",
    "\n",
    "plt.show()"
   ]
  },
  {
   "cell_type": "code",
   "execution_count": 105,
   "metadata": {
    "collapsed": true,
    "deletable": true,
    "editable": true
   },
   "outputs": [],
   "source": [
    "def Non_linear(w1, n):\n",
    "   \n",
    "\n",
    "\n",
    "\n",
    "    fig, (ax1, ax2) = plt.subplots(1, 2, figsize=(12, 6))\n",
    "\n",
    "    x_vals = np.linspace(-1, 1, 200)\n",
    "    y_vals = -(w1[n][0] +w1[n][2]*np.sin(2*w1[n][3]*np.pi*x_vals+w1[n][4]))/w1[n][1]\n",
    "    \n",
    " \n",
    "    color=[]\n",
    "    for p in range(len(y)):\n",
    "        if y[p]==1:\n",
    "            color.append('r')\n",
    "        if y[p]==-1:\n",
    "            color.append('b')\n",
    "\n",
    "\n",
    "    ax2.scatter(data[:, 0], data[:, 1], color=color, edgecolor='w')\n",
    "    ax2.plot(y_vals,x_vals,color='r')\n",
    "    ax1.scatter(data[:, 0], data[:, 1], color=color, edgecolor='w')\n",
    "    ax1.set_title(\"original data\")\n",
    "    ax2.set_title(\"classified data\")\n",
    "\n",
    "    plt.show()\n"
   ]
  },
  {
   "cell_type": "code",
   "execution_count": 106,
   "metadata": {
    "collapsed": false,
    "deletable": true,
    "editable": true
   },
   "outputs": [
    {
     "data": {
      "image/png": "[encoded data removed]",
      "text/plain": [
       "<matplotlib.figure.Figure at 0x1188f7ba8>"
      ]
     },
     "metadata": {},
     "output_type": "display_data"
    }
   ],
   "source": [
    "Non_linear(weight_history,999)"
   ]
  },
  {
   "cell_type": "code",
   "execution_count": null,
   "metadata": {
    "collapsed": true,
    "deletable": true,
    "editable": true
   },
   "outputs": [],
   "source": []
  }
 ],
 "metadata": {
  "anaconda-cloud": {},
  "kernelspec": {
   "display_name": "Python 2",
   "language": "python",
   "name": "python2"
  },
  "language_info": {
   "codemirror_mode": {
    "name": "ipython",
    "version": 2
   },
   "file_extension": ".py",
   "mimetype": "text/x-python",
   "name": "python",
   "nbconvert_exporter": "python",
   "pygments_lexer": "ipython2",
   "version": "2.7.13"
  },
  "toc": {
   "colors": {
    "hover_highlight": "#DAA520",
    "navigate_num": "#000000",
    "navigate_text": "#333333",
    "running_highlight": "#FF0000",
    "selected_highlight": "#FFD700",
    "sidebar_border": "#EEEEEE",
    "wrapper_background": "#FFFFFF"
   },
   "moveMenuLeft": true,
   "nav_menu": {
    "height": "30px",
    "width": "252px"
   },
   "navigate_menu": true,
   "number_sections": false,
   "sideBar": true,
   "threshold": 4,
   "toc_cell": false,
   "toc_section_display": "block",
   "toc_window_display": false,
   "widenNotebook": false
  }
 },
 "nbformat": 4,
 "nbformat_minor": 1
}
